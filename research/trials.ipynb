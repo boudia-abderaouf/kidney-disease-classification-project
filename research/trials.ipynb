{
 "cells": [
  {
   "cell_type": "markdown",
   "metadata": {},
   "source": [
    "# Data from gdrive  "
   ]
  },
  {
   "cell_type": "code",
   "execution_count": null,
   "metadata": {},
   "outputs": [],
   "source": [
    "import gdown \n",
    "url = \"https://drive.google.com/file/d/1_JrPVn4IurQ4KRLI_QWe0pwU-wtrO2ph/\"\n",
    "\n",
    "id = url.split(\"/\")[-2]\n",
    "prefix = \"https://drive.google.com/uc?export=download&id=\"\n",
    "\n",
    "gdown.download(prefix+id, id+\"kidney_ct_scan_data.zip\", quiet=False)"
   ]
  }
 ],
 "metadata": {
  "kernelspec": {
   "display_name": "kidney",
   "language": "python",
   "name": "python3"
  },
  "language_info": {
   "codemirror_mode": {
    "name": "ipython",
    "version": 3
   },
   "file_extension": ".py",
   "mimetype": "text/x-python",
   "name": "python",
   "nbconvert_exporter": "python",
   "pygments_lexer": "ipython3",
   "version": "3.8.20"
  }
 },
 "nbformat": 4,
 "nbformat_minor": 2
}
