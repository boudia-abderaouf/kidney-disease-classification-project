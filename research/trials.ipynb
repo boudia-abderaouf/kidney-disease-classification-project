{
 "cells": [
  {
   "cell_type": "markdown",
   "metadata": {},
   "source": [
    "# Data from gdrive  "
   ]
  },
  {
   "cell_type": "code",
   "execution_count": 2,
   "metadata": {},
   "outputs": [
    {
     "data": {
      "text/plain": [
       "'d'"
      ]
     },
     "execution_count": 2,
     "metadata": {},
     "output_type": "execute_result"
    }
   ],
   "source": [
    "id"
   ]
  },
  {
   "cell_type": "code",
   "execution_count": 3,
   "metadata": {},
   "outputs": [
    {
     "name": "stderr",
     "output_type": "stream",
     "text": [
      "Downloading...\n",
      "From (original): https://drive.google.com/uc?export=download&id=1b8pYGzzS8XBlpmdAzEsU0e_hxOa98yhk\n",
      "From (redirected): https://drive.google.com/uc?export=download&id=1b8pYGzzS8XBlpmdAzEsU0e_hxOa98yhk&confirm=t&uuid=43ebe6df-7a6d-4ea6-b1a4-d68525652060\n",
      "To: c:\\Users\\acerv\\Desktop\\Projects\\project_endtoend_kidney\\research\\1b8pYGzzS8XBlpmdAzEsU0e_hxOa98yhkkidney_ct_scan_data.zip\n",
      "100%|██████████| 46.5M/46.5M [00:01<00:00, 37.3MB/s]\n"
     ]
    },
    {
     "data": {
      "text/plain": [
       "'1b8pYGzzS8XBlpmdAzEsU0e_hxOa98yhkkidney_ct_scan_data.zip'"
      ]
     },
     "execution_count": 3,
     "metadata": {},
     "output_type": "execute_result"
    }
   ],
   "source": [
    "import gdown \n",
    "url = \"https://drive.google.com/file/d/1b8pYGzzS8XBlpmdAzEsU0e_hxOa98yhk\"\n",
    "\n",
    "id = url.split(\"/\")[-1]\n",
    "prefix = \"https://drive.google.com/uc?export=download&id=\"\n",
    "\n",
    "gdown.download(prefix+id, id+\"kidney_ct_scan_data.zip\", quiet=False)"
   ]
  }
 ],
 "metadata": {
  "kernelspec": {
   "display_name": "kidney",
   "language": "python",
   "name": "python3"
  },
  "language_info": {
   "codemirror_mode": {
    "name": "ipython",
    "version": 3
   },
   "file_extension": ".py",
   "mimetype": "text/x-python",
   "name": "python",
   "nbconvert_exporter": "python",
   "pygments_lexer": "ipython3",
   "version": "3.8.20"
  }
 },
 "nbformat": 4,
 "nbformat_minor": 2
}
